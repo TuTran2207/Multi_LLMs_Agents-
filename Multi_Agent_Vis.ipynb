{
  "cells": [
    {
      "cell_type": "markdown",
      "metadata": {
        "id": "Tv09D2y7cCWd"
      },
      "source": [
        "# **What are LLM Agents?**\n",
        "\n",
        "LLM Agents are advanced AI systems powered by LLMs like ChatGPT. They are designed to not only generate responses but also:\n",
        "- Perform specific tasks.\n",
        "- Use tools like search engines or databases.\n",
        "- Collaborate with other agents to solve complex problems.\n",
        "\n",
        "### **Think of LLM Agents As:**\n",
        "- **Smart Assistants**: They can handle tasks like summarizing reports or drafting recommendations.\n",
        "- **Team Players**: Multiple agents can work together, with each specializing in a different aspect of the task."
      ]
    },
    {
      "cell_type": "markdown",
      "metadata": {
        "id": "wYZl5wUxcCT6"
      },
      "source": [
        "# **Why Are LLM Agents Important?**\n",
        "\n",
        "### **1. Enhanced Efficiency**\n",
        "LLM agents can automate time-consuming tasks such as:\n",
        "- Summarizing large reports.\n",
        "- Drafting technical documents.\n",
        "- Extracting insights from complex data.\n",
        "\n",
        "### **2. Improved Decision-Making**\n",
        "By analyzing data and generating insights, they assist professionals in making better decisions faster.\n",
        "\n",
        "### **3. Innovation**\n",
        "Agents open up possibilities for tasks like:\n",
        "- Visualize and find insights from a report.\n",
        "- Predictive maintenance.\n",
        "- Automating compliance checks.\n"
      ]
    },
    {
      "cell_type": "markdown",
      "metadata": {
        "id": "dktGvLaOcm4Z"
      },
      "source": [
        "# **Components of LLM Agents**\n",
        "\n",
        "An LLM agent typically consists of the following components:\n",
        "\n",
        "### **1. LLM (The Brain)**\n",
        "- The core model that understands and generates text based on input.\n",
        "\n",
        "### **2. Memory**\n",
        "- Allows the agent to remember past interactions or store important information for context.\n",
        "\n",
        "### **3. Tools**\n",
        "- Plugins or external systems the agent can use to:\n",
        "  - Fetch real-time data (e.g., from the web).\n",
        "  - Perform calculations.\n",
        "  - Generate visualizations or documents.\n",
        "\n",
        "### **4. Task Orchestrator**\n",
        "- Coordinates tasks in multi-agent systems, enabling collaboration between agents.\n",
        "\n",
        "Together, these components enable LLM agents to handle complex workflows efficiently."
      ]
    },
    {
      "cell_type": "markdown",
      "metadata": {
        "id": "Zy3yyFE_SZ1J"
      },
      "source": [
        "## Data Description\n",
        "\n",
        "•\tCementComponent:- Amount of cement is mixed\n",
        "\n",
        "•\tBlastFurnaceSlag:- Amount of Blast Furnace Slag is mixed\n",
        "\n",
        "•\tFlyAshComponent:- Amount of FlyAsh is mixed\n",
        "\n",
        "•\tWaterComponent:- Amount of water is mixed\n",
        "\n",
        "•\tSuperplasticizerComponent:- Amount of Super plasticizer is mixed\n",
        "\n",
        "•\tCoarseAggregateComponent:- Amount of Coarse Aggregate is mixed\n",
        "\n",
        "•\tFineAggregateComponent:- Amount of Coarse Aggregate is mixed\n",
        "\n",
        "•\tAgeInDays:- How many days it was left dry\n",
        "\n",
        "•\tStrength:- What was the final strength of concrete- (Target)\n"
      ]
    },
    {
      "cell_type": "markdown",
      "metadata": {
        "id": "WRGmLOrQEKoV"
      },
      "source": [
        "**Note: Please upload .csv and .json files provided.**"
      ]
    },
    {
      "cell_type": "code",
      "execution_count": null,
      "metadata": {
        "colab": {
          "base_uri": "https://localhost:8080/",
          "height": 1000
        },
        "id": "pYqJld-DKbtt",
        "outputId": "e4c781fe-d594-4d0c-fe5b-830e5804be76"
      },
      "outputs": [
        {
          "name": "stdout",
          "output_type": "stream",
          "text": [
            "\u001b[33mWARNING: Skipping httpx as it is not installed.\u001b[0m\u001b[33m\n",
            "\u001b[0mCollecting httpx==0.27.2\n",
            "  Using cached httpx-0.27.2-py3-none-any.whl.metadata (7.1 kB)\n",
            "Collecting anyio (from httpx==0.27.2)\n",
            "  Using cached anyio-4.7.0-py3-none-any.whl.metadata (4.7 kB)\n",
            "Collecting certifi (from httpx==0.27.2)\n",
            "  Using cached certifi-2024.8.30-py3-none-any.whl.metadata (2.2 kB)\n",
            "Collecting httpcore==1.* (from httpx==0.27.2)\n",
            "  Using cached httpcore-1.0.7-py3-none-any.whl.metadata (21 kB)\n",
            "Collecting idna (from httpx==0.27.2)\n",
            "  Using cached idna-3.10-py3-none-any.whl.metadata (10 kB)\n",
            "Collecting sniffio (from httpx==0.27.2)\n",
            "  Using cached sniffio-1.3.1-py3-none-any.whl.metadata (3.9 kB)\n",
            "Collecting h11<0.15,>=0.13 (from httpcore==1.*->httpx==0.27.2)\n",
            "  Using cached h11-0.14.0-py3-none-any.whl.metadata (8.2 kB)\n",
            "Collecting exceptiongroup>=1.0.2 (from anyio->httpx==0.27.2)\n",
            "  Using cached exceptiongroup-1.2.2-py3-none-any.whl.metadata (6.6 kB)\n",
            "Collecting typing_extensions>=4.5 (from anyio->httpx==0.27.2)\n",
            "  Using cached typing_extensions-4.12.2-py3-none-any.whl.metadata (3.0 kB)\n",
            "Using cached httpx-0.27.2-py3-none-any.whl (76 kB)\n",
            "Using cached httpcore-1.0.7-py3-none-any.whl (78 kB)\n",
            "Using cached anyio-4.7.0-py3-none-any.whl (93 kB)\n",
            "Using cached idna-3.10-py3-none-any.whl (70 kB)\n",
            "Using cached sniffio-1.3.1-py3-none-any.whl (10 kB)\n",
            "Using cached certifi-2024.8.30-py3-none-any.whl (167 kB)\n",
            "Using cached exceptiongroup-1.2.2-py3-none-any.whl (16 kB)\n",
            "Using cached h11-0.14.0-py3-none-any.whl (58 kB)\n",
            "Using cached typing_extensions-4.12.2-py3-none-any.whl (37 kB)\n",
            "Installing collected packages: typing_extensions, sniffio, idna, h11, exceptiongroup, certifi, httpcore, anyio, httpx\n",
            "\u001b[31mERROR: pip's dependency resolver does not currently take into account all the packages that are installed. This behaviour is the source of the following dependency conflicts.\n",
            "jupyter-server 1.24.0 requires anyio<4,>=3.1.0, but you have anyio 4.7.0 which is incompatible.\u001b[0m\u001b[31m\n",
            "\u001b[0mSuccessfully installed anyio-4.7.0 certifi-2024.8.30 exceptiongroup-1.2.2 h11-0.14.0 httpcore-1.0.7 httpx-0.27.2 idna-3.10 sniffio-1.3.1 typing_extensions-4.12.2\n",
            "\u001b[33mWARNING: Target directory /content/custom_packages/h11 already exists. Specify --upgrade to force replacement.\u001b[0m\u001b[33m\n",
            "\u001b[0m\u001b[33mWARNING: Target directory /content/custom_packages/anyio-4.7.0.dist-info already exists. Specify --upgrade to force replacement.\u001b[0m\u001b[33m\n",
            "\u001b[0m\u001b[33mWARNING: Target directory /content/custom_packages/exceptiongroup-1.2.2.dist-info already exists. Specify --upgrade to force replacement.\u001b[0m\u001b[33m\n",
            "\u001b[0m\u001b[33mWARNING: Target directory /content/custom_packages/exceptiongroup already exists. Specify --upgrade to force replacement.\u001b[0m\u001b[33m\n",
            "\u001b[0m\u001b[33mWARNING: Target directory /content/custom_packages/sniffio-1.3.1.dist-info already exists. Specify --upgrade to force replacement.\u001b[0m\u001b[33m\n",
            "\u001b[0m\u001b[33mWARNING: Target directory /content/custom_packages/httpcore-1.0.7.dist-info already exists. Specify --upgrade to force replacement.\u001b[0m\u001b[33m\n",
            "\u001b[0m\u001b[33mWARNING: Target directory /content/custom_packages/idna already exists. Specify --upgrade to force replacement.\u001b[0m\u001b[33m\n",
            "\u001b[0m\u001b[33mWARNING: Target directory /content/custom_packages/certifi-2024.8.30.dist-info already exists. Specify --upgrade to force replacement.\u001b[0m\u001b[33m\n",
            "\u001b[0m\u001b[33mWARNING: Target directory /content/custom_packages/__pycache__ already exists. Specify --upgrade to force replacement.\u001b[0m\u001b[33m\n",
            "\u001b[0m\u001b[33mWARNING: Target directory /content/custom_packages/sniffio already exists. Specify --upgrade to force replacement.\u001b[0m\u001b[33m\n",
            "\u001b[0m\u001b[33mWARNING: Target directory /content/custom_packages/typing_extensions.py already exists. Specify --upgrade to force replacement.\u001b[0m\u001b[33m\n",
            "\u001b[0m\u001b[33mWARNING: Target directory /content/custom_packages/certifi already exists. Specify --upgrade to force replacement.\u001b[0m\u001b[33m\n",
            "\u001b[0m\u001b[33mWARNING: Target directory /content/custom_packages/httpx already exists. Specify --upgrade to force replacement.\u001b[0m\u001b[33m\n",
            "\u001b[0m\u001b[33mWARNING: Target directory /content/custom_packages/h11-0.14.0.dist-info already exists. Specify --upgrade to force replacement.\u001b[0m\u001b[33m\n",
            "\u001b[0m\u001b[33mWARNING: Target directory /content/custom_packages/httpcore already exists. Specify --upgrade to force replacement.\u001b[0m\u001b[33m\n",
            "\u001b[0m\u001b[33mWARNING: Target directory /content/custom_packages/idna-3.10.dist-info already exists. Specify --upgrade to force replacement.\u001b[0m\u001b[33m\n",
            "\u001b[0m\u001b[33mWARNING: Target directory /content/custom_packages/anyio already exists. Specify --upgrade to force replacement.\u001b[0m\u001b[33m\n",
            "\u001b[0m\u001b[33mWARNING: Target directory /content/custom_packages/httpx-0.27.2.dist-info already exists. Specify --upgrade to force replacement.\u001b[0m\u001b[33m\n",
            "\u001b[0m\u001b[33mWARNING: Target directory /content/custom_packages/typing_extensions-4.12.2.dist-info already exists. Specify --upgrade to force replacement.\u001b[0m\u001b[33m\n",
            "\u001b[0m\u001b[33mWARNING: Target directory /content/custom_packages/bin already exists. Specify --upgrade to force replacement.\u001b[0m\u001b[33m\n",
            "\u001b[0m"
          ]
        },
        {
          "data": {
            "application/vnd.colab-display-data+json": {
              "id": "86899de1760e462a9c4f83d56c746881",
              "pip_warning": {
                "packages": [
                  "certifi"
                ]
              }
            }
          },
          "metadata": {},
          "output_type": "display_data"
        }
      ],
      "source": [
        "!pip uninstall -y httpx\n",
        "\n",
        "!pip install httpx==0.27.2 --target=/content/custom_packages"
      ]
    },
    {
      "cell_type": "code",
      "execution_count": null,
      "metadata": {
        "colab": {
          "base_uri": "https://localhost:8080/"
        },
        "id": "4rJpH6xkKjdO",
        "outputId": "683f1402-80d4-47c7-8c10-f43e8875a5d2"
      },
      "outputs": [
        {
          "name": "stdout",
          "output_type": "stream",
          "text": [
            "0.27.2\n"
          ]
        }
      ],
      "source": [
        "import sys\n",
        "sys.path.insert(0, '/content/custom_packages')\n",
        "\n",
        "import httpx\n",
        "print(httpx.__version__)  # Should show 0.27.2\n"
      ]
    },
    {
      "cell_type": "code",
      "execution_count": null,
      "metadata": {
        "colab": {
          "base_uri": "https://localhost:8080/"
        },
        "id": "qc_V7ulAZWCG",
        "outputId": "90754473-b9ca-4eb2-eacf-c6be9fe6b570"
      },
      "outputs": [
        {
          "name": "stdout",
          "output_type": "stream",
          "text": [
            "Requirement already satisfied: autogen-agentchat~=0.2 in /usr/local/lib/python3.10/dist-packages (0.2.39)\n",
            "Requirement already satisfied: diskcache in /usr/local/lib/python3.10/dist-packages (from autogen-agentchat~=0.2) (5.6.3)\n",
            "Requirement already satisfied: docker in /usr/local/lib/python3.10/dist-packages (from autogen-agentchat~=0.2) (7.1.0)\n",
            "Requirement already satisfied: flaml in /usr/local/lib/python3.10/dist-packages (from autogen-agentchat~=0.2) (2.3.2)\n",
            "Requirement already satisfied: numpy<2,>=1.17.0 in /usr/local/lib/python3.10/dist-packages (from autogen-agentchat~=0.2) (1.26.4)\n",
            "Requirement already satisfied: openai>=1.3 in /usr/local/lib/python3.10/dist-packages (from autogen-agentchat~=0.2) (1.54.5)\n",
            "Requirement already satisfied: packaging in /usr/local/lib/python3.10/dist-packages (from autogen-agentchat~=0.2) (24.2)\n",
            "Requirement already satisfied: pydantic!=2.6.0,<3,>=1.10 in /usr/local/lib/python3.10/dist-packages (from autogen-agentchat~=0.2) (2.10.2)\n",
            "Requirement already satisfied: python-dotenv in /usr/local/lib/python3.10/dist-packages (from autogen-agentchat~=0.2) (1.0.1)\n",
            "Requirement already satisfied: termcolor in /usr/local/lib/python3.10/dist-packages (from autogen-agentchat~=0.2) (2.5.0)\n",
            "Requirement already satisfied: tiktoken in /usr/local/lib/python3.10/dist-packages (from autogen-agentchat~=0.2) (0.8.0)\n",
            "Requirement already satisfied: anyio<5,>=3.5.0 in /usr/local/lib/python3.10/dist-packages (from openai>=1.3->autogen-agentchat~=0.2) (3.7.1)\n",
            "Requirement already satisfied: distro<2,>=1.7.0 in /usr/local/lib/python3.10/dist-packages (from openai>=1.3->autogen-agentchat~=0.2) (1.9.0)\n",
            "Collecting httpx<1,>=0.23.0 (from openai>=1.3->autogen-agentchat~=0.2)\n",
            "  Using cached httpx-0.28.0-py3-none-any.whl.metadata (7.1 kB)\n",
            "Requirement already satisfied: jiter<1,>=0.4.0 in /usr/local/lib/python3.10/dist-packages (from openai>=1.3->autogen-agentchat~=0.2) (0.8.0)\n",
            "Requirement already satisfied: sniffio in /usr/local/lib/python3.10/dist-packages (from openai>=1.3->autogen-agentchat~=0.2) (1.3.1)\n",
            "Requirement already satisfied: tqdm>4 in /usr/local/lib/python3.10/dist-packages (from openai>=1.3->autogen-agentchat~=0.2) (4.66.6)\n",
            "Requirement already satisfied: typing-extensions<5,>=4.11 in /usr/local/lib/python3.10/dist-packages (from openai>=1.3->autogen-agentchat~=0.2) (4.12.2)\n",
            "Requirement already satisfied: annotated-types>=0.6.0 in /usr/local/lib/python3.10/dist-packages (from pydantic!=2.6.0,<3,>=1.10->autogen-agentchat~=0.2) (0.7.0)\n",
            "Requirement already satisfied: pydantic-core==2.27.1 in /usr/local/lib/python3.10/dist-packages (from pydantic!=2.6.0,<3,>=1.10->autogen-agentchat~=0.2) (2.27.1)\n",
            "Requirement already satisfied: requests>=2.26.0 in /usr/local/lib/python3.10/dist-packages (from docker->autogen-agentchat~=0.2) (2.32.3)\n",
            "Requirement already satisfied: urllib3>=1.26.0 in /usr/local/lib/python3.10/dist-packages (from docker->autogen-agentchat~=0.2) (2.2.3)\n",
            "Requirement already satisfied: regex>=2022.1.18 in /usr/local/lib/python3.10/dist-packages (from tiktoken->autogen-agentchat~=0.2) (2024.9.11)\n",
            "Requirement already satisfied: idna>=2.8 in /usr/local/lib/python3.10/dist-packages (from anyio<5,>=3.5.0->openai>=1.3->autogen-agentchat~=0.2) (3.10)\n",
            "Requirement already satisfied: exceptiongroup in /usr/local/lib/python3.10/dist-packages (from anyio<5,>=3.5.0->openai>=1.3->autogen-agentchat~=0.2) (1.2.2)\n",
            "Requirement already satisfied: certifi in /usr/local/lib/python3.10/dist-packages (from httpx<1,>=0.23.0->openai>=1.3->autogen-agentchat~=0.2) (2024.8.30)\n",
            "Requirement already satisfied: httpcore==1.* in /usr/local/lib/python3.10/dist-packages (from httpx<1,>=0.23.0->openai>=1.3->autogen-agentchat~=0.2) (1.0.7)\n",
            "Requirement already satisfied: h11<0.15,>=0.13 in /usr/local/lib/python3.10/dist-packages (from httpcore==1.*->httpx<1,>=0.23.0->openai>=1.3->autogen-agentchat~=0.2) (0.14.0)\n",
            "Requirement already satisfied: charset-normalizer<4,>=2 in /usr/local/lib/python3.10/dist-packages (from requests>=2.26.0->docker->autogen-agentchat~=0.2) (3.4.0)\n",
            "Using cached httpx-0.28.0-py3-none-any.whl (73 kB)\n",
            "\u001b[31mERROR: Operation cancelled by user\u001b[0m\u001b[31m\n",
            "\u001b[0m"
          ]
        }
      ],
      "source": [
        "pip install autogen-agentchat~=0.2"
      ]
    },
    {
      "cell_type": "code",
      "execution_count": null,
      "metadata": {
        "id": "Ya-5ClheZPvz"
      },
      "outputs": [],
      "source": [
        "import matplotlib.pyplot as plt\n",
        "import pandas as pd\n",
        "import seaborn as sns\n",
        "from IPython.display import Image\n",
        "\n",
        "import autogen\n",
        "\n",
        "config_list_gpt4 = autogen.config_list_from_json(\n",
        "    \"/content/OAI_CONFIG_LIST.json\",\n",
        "    filter_dict={\n",
        "        \"model\": [\"gpt-4\", \"gpt-4-0314\", \"gpt4\", \"gpt-4-32k\", \"gpt-4-32k-0314\", \"gpt-4-32k-v0314\"],\n",
        "    },\n",
        ")"
      ]
    },
    {
      "cell_type": "code",
      "execution_count": null,
      "metadata": {
        "id": "00OLcNUta01U"
      },
      "outputs": [],
      "source": [
        "import os\n",
        "\n",
        "# Set the environment variable\n",
        "os.environ['OPENAI_API_KEY'] = 'your api key'\n",
        "\n",
        "# Verify that the environment variable is set\n",
        "print(os.getenv('OPENAI_API_KEY'))"
      ]
    },
    {
      "cell_type": "code",
      "execution_count": null,
      "metadata": {
        "id": "k5P8P6VNZPv0"
      },
      "outputs": [],
      "source": [
        "llm_config = {\"config_list\": config_list_gpt4, \"cache_seed\": 42}\n",
        "user_proxy = autogen.UserProxyAgent(\n",
        "    name=\"User_proxy\",\n",
        "    system_message=\"A human admin.\",\n",
        "    code_execution_config={\n",
        "        \"last_n_messages\": 3,\n",
        "        \"work_dir\": \"groupchat\",\n",
        "        \"use_docker\": False,\n",
        "    },\n",
        "    human_input_mode=\"NEVER\",\n",
        ")\n",
        "coder = autogen.AssistantAgent(\n",
        "    name=\"Coder\",  # the default assistant agent is capable of solving problems with code\n",
        "    llm_config=llm_config,\n",
        ")\n",
        "critic = autogen.AssistantAgent(\n",
        "    name=\"Critic\",\n",
        "    system_message=\"\"\"Critic. You are a helpful assistant highly skilled in evaluating the quality of a given visualization code by providing a score from 1 (bad) - 10 (good) while providing clear rationale. YOU MUST CONSIDER VISUALIZATION BEST PRACTICES for each evaluation. Specifically, you can carefully evaluate the code across the following dimensions\n",
        "- bugs (bugs):  are there bugs, logic errors, syntax error or typos? Are there any reasons why the code may fail to compile? How should it be fixed? If ANY bug exists, the bug score MUST be less than 5.\n",
        "- Data transformation (transformation): Is the data transformed appropriately for the visualization type? E.g., is the dataset appropriated filtered, aggregated, or grouped  if needed? If a date field is used, is the date field first converted to a date object etc?\n",
        "- Goal compliance (compliance): how well the code meets the specified visualization goals?\n",
        "- Visualization type (type): CONSIDERING BEST PRACTICES, is the visualization type appropriate for the data and intent? Is there a visualization type that would be more effective in conveying insights? If a different visualization type is more appropriate, the score MUST BE LESS THAN 5.\n",
        "- Data encoding (encoding): Is the data encoded appropriately for the visualization type?\n",
        "- aesthetics (aesthetics): Are the aesthetics of the visualization appropriate for the visualization type and the data?\n",
        "\n",
        "YOU MUST PROVIDE A SCORE for each of the above dimensions.\n",
        "{bugs: 0, transformation: 0, compliance: 0, type: 0, encoding: 0, aesthetics: 0}\n",
        "Do not suggest code.\n",
        "Finally, based on the critique above, suggest a concrete list of actions that the coder should take to improve the code.\n",
        "\"\"\",\n",
        "    llm_config=llm_config,\n",
        ")\n",
        "\n",
        "groupchat = autogen.GroupChat(agents=[user_proxy, coder, critic], messages=[], max_round=20)\n",
        "manager = autogen.GroupChatManager(groupchat=groupchat, llm_config=llm_config)"
      ]
    },
    {
      "cell_type": "markdown",
      "metadata": {
        "id": "17TG7ccOZPv0"
      },
      "source": [
        "## Start Chat"
      ]
    },
    {
      "cell_type": "code",
      "execution_count": null,
      "metadata": {
        "id": "yNebgL6JZPv1"
      },
      "outputs": [],
      "source": [
        "user_proxy.initiate_chat(\n",
        "    manager,\n",
        "    message=\"read data from /content/ConcreteStrengthData.csv and plot a visualization that tells us about the relationship between WaterComponent and CementComponent. Save the plot to a file. Print the fields in a dataset before visualizing it.\",\n",
        ")\n",
        "# type exit to terminate the chat"
      ]
    },
    {
      "cell_type": "markdown",
      "metadata": {
        "id": "9jB4Q1ZHZPv1"
      },
      "source": [
        "## Display the saved figure"
      ]
    },
    {
      "cell_type": "code",
      "execution_count": null,
      "metadata": {
        "id": "rGjB5tBcy6Sz"
      },
      "outputs": [],
      "source": []
    },
    {
      "cell_type": "code",
      "execution_count": null,
      "metadata": {
        "id": "gIipkySOZPv2"
      },
      "outputs": [],
      "source": [
        "Image(filename=\"/content/groupchat/plot.png\") # check the name of the plot generated in \"groupchat\" folder"
      ]
    },
    {
      "cell_type": "markdown",
      "metadata": {
        "id": "fgEU7q_wZPv2"
      },
      "source": [
        "## Example 2"
      ]
    },
    {
      "cell_type": "code",
      "execution_count": null,
      "metadata": {
        "id": "fOALvPgdZPv2"
      },
      "outputs": [],
      "source": [
        "user_proxy.reset()\n",
        "coder.reset()\n",
        "critic.reset()\n",
        "groupchat = autogen.GroupChat(agents=[user_proxy, coder, critic], messages=[], max_round=20)\n",
        "manager = autogen.GroupChatManager(groupchat=groupchat, llm_config=llm_config)\n",
        "user_proxy.initiate_chat(\n",
        "    manager,\n",
        "    message=\"read data from /content/ConcreteStrengthData.csv and plot a visualization that tells us about the relationship between strength and CementComponent. Save the plot to a file. Print the fields in a dataset before visualizing it.\",\n",
        ")"
      ]
    },
    {
      "cell_type": "code",
      "execution_count": null,
      "metadata": {
        "id": "WRqPiWTMcAdv"
      },
      "outputs": [],
      "source": [
        "Image(filename=\"/content/groupchat/Cement_vs_Strength.png\")"
      ]
    },
    {
      "cell_type": "code",
      "execution_count": null,
      "metadata": {
        "colab": {
          "base_uri": "https://localhost:8080/"
        },
        "id": "oVuXO9tmcAOC",
        "outputId": "6e07c515-0aa4-4b9d-9d8d-81ab6a6df7ef"
      },
      "outputs": [
        {
          "name": "stdout",
          "output_type": "stream",
          "text": [
            "User_proxy (to chat_manager):\n",
            "\n",
            "Let's use black as background color and save it into another png file.\n",
            "\n",
            "--------------------------------------------------------------------------------\n",
            "\n",
            "Next speaker: Coder\n",
            "\n",
            "Coder (to chat_manager):\n",
            "\n",
            "Sure, to change the background color to black and save the plot into another PNG file, we need to use the 'figure' function from matplotlib to create a figure and set its background color. We will use the filename 'Cement_vs_Strength_black.png' to save the updated plot.\n",
            "\n",
            "Here's the updated Python code:\n",
            "\n",
            "```python\n",
            "# filename: plot_black_background.py\n",
            "\n",
            "import pandas as pd\n",
            "import matplotlib.pyplot as plt\n",
            "\n",
            "# Load the dataset\n",
            "data = pd.read_csv('/content/ConcreteStrengthData.csv')\n",
            "\n",
            "# Create a figure with black background\n",
            "fig = plt.figure(facecolor='black')\n",
            "\n",
            "# Create a scatter plot\n",
            "plt.scatter(data['CementComponent '], data['Strength'])\n",
            "plt.title(\"Relationship between CementComponent and Strength\", color='white')\n",
            "plt.xlabel(\"CementComponent\", color='white')\n",
            "plt.ylabel(\"Strength\", color='white')\n",
            "\n",
            "# Change axes color to white\n",
            "ax = plt.gca()\n",
            "ax.tick_params(axis='x', colors='white')\n",
            "ax.tick_params(axis='y', colors='white')\n",
            "\n",
            "# Save the plot to a file\n",
            "plt.savefig(\"Cement_vs_Strength_black.png\", facecolor=fig.get_facecolor(), edgecolor='none')\n",
            "\n",
            "print(\"Scatter plot with black background generated and saved as 'Cement_vs_Strength_black.png'\")\n",
            "```\n",
            "\n",
            "Please save this code into a file named 'plot_black_background.py' and run it. This script will create a scatter plot with a black background and save it as \"Cement_vs_Strength_black.png\".\n",
            "\n",
            "--------------------------------------------------------------------------------\n",
            "\n",
            "Next speaker: Critic\n",
            "\n",
            "Critic (to chat_manager):\n",
            "\n",
            "- Bugs (bugs): 10/10. The provided code is clear, concise, and without any logical, syntax, or typographical errors. It is designed to execute without generating any runtime or compilation errors.\n",
            "\n",
            "- Data Transformation (transformation): 10/10. The raw data obtained directly from the CSV file doesn't require any transformation for the intended visualization. The code appropriately extracts the required 'Strength' and 'CementComponent ' variables straight from the DataFrame object.\n",
            "\n",
            "- Goal Compliance (compliance): 10/10. The given code complies perfectly with the revised goal, which is to create a scatter plot with a black background graphing the relationship between 'Strength' and 'CementComponent', and to save the plot as a PNG file. \n",
            "\n",
            "- Visualization Type (type): 10/10. The scatter plot remains an excellent choice for the given data and intent, accurately mapping out the correlation between the two variables: 'Strength' and 'CementComponent '.\n",
            "\n",
            "- Data Encoding (encoding): 10/10. The scatter plot employs intuitively understandable point-encoding for the two variables, with 'CementComponent ' as the x-axis and 'Strength' on the y-axis.\n",
            "\n",
            "- Aesthetics (aesthetics): 8/10. While the black background and white labels follow the requested aesthetic, adding a grid or setting a different color for the points (currently black) might make the data stand out more against the black background.\n",
            "\n",
            "To further refine and improve the code:\n",
            "\n",
            "1. Add a grid to the plot to aid in more accurate value references.\n",
            "2. Change the color of plotted data points to help them stand out against the black background. \n",
            "3. Be cautious about choosing colors for the plot's elements, ensuring there is enough contrast between the data points, axes, labels, and the background for clear visibility.\n",
            "\n",
            "--------------------------------------------------------------------------------\n",
            "\n",
            "Next speaker: User_proxy\n",
            "\n",
            "\n",
            ">>>>>>>> EXECUTING CODE BLOCK 0 (inferred language is python)...\n",
            "User_proxy (to chat_manager):\n",
            "\n",
            "exitcode: 0 (execution succeeded)\n",
            "Code output: \n",
            "Scatter plot with black background generated and saved as 'Cement_vs_Strength_black.png'\n",
            "\n",
            "\n",
            "--------------------------------------------------------------------------------\n",
            "\n",
            "Next speaker: Critic\n",
            "\n",
            "Critic (to chat_manager):\n",
            "\n",
            "- Bugs (bugs): 10/10. The code operates flawlessly without any bugs or errors. The requested black background scatter plot is correctly generated and saved as a PNG file.\n",
            "\n",
            "- Data Transformation (transformation): 10/10. There is no need for data transformation in this process as the data read from the csv file is directly utilized to generate the scatter plot.\n",
            "\n",
            "- Goal Compliance (compliance): 10/10. The code meets the given task perfectly. It successfully generates a scatter plot with a black background depicting the relationship between 'Strength' and 'CementComponent' and saves it as a PNG file.\n",
            "\n",
            "- Visualization Type (type): 10/10. The scatter plot remains the appropriate choice for illustrating the relationship between two continuous variables. The code correctly implements this.\n",
            "\n",
            "- Data Encoding (encoding): 10/10. The scatter plot correctly encodes 'CementComponent ' on the x-axis and 'Strength' on the y-axis as points on the 2D plot.\n",
            "\n",
            "- Aesthetics (aesthetics): 8/10. The plot meets the task's requirement with a black background and white text and line colors. However, the data points are not visible against the black background. This affects the readability and interpretability of the plot.\n",
            "\n",
            "For further improvements:\n",
            "\n",
            "1. Change the color of the data points to improve their visibility against the black background.\n",
            "2. Add a grid on the plot to provide a reference for better interpretation.\n",
            "\n",
            "--------------------------------------------------------------------------------\n",
            "\n",
            "Next speaker: Coder\n",
            "\n",
            "Coder (to chat_manager):\n",
            "\n",
            "TERMINATE\n",
            "\n",
            "--------------------------------------------------------------------------------\n"
          ]
        }
      ],
      "source": [
        "user_proxy.send(recipient = manager, message = \"Let's use black as background color and save it into another png file.\")\n"
      ]
    },
    {
      "cell_type": "code",
      "execution_count": null,
      "metadata": {
        "colab": {
          "base_uri": "https://localhost:8080/",
          "height": 497
        },
        "id": "HYl3_3DsewQk",
        "outputId": "4ea2e1f8-0f7d-4919-9d9d-75282ef4aa7d"
      },
      "outputs": [
        {
          "data": {
            "image/png": "[encoded data removed]",
            "text/plain": [
              "<IPython.core.display.Image object>"
            ]
          },
          "execution_count": 25,
          "metadata": {},
          "output_type": "execute_result"
        }
      ],
      "source": [
        "Image(filename=\"/content/groupchat/Cement_vs_Strength_black.png\")"
      ]
    },
    {
      "cell_type": "code",
      "execution_count": null,
      "metadata": {
        "id": "tJoNPVRbf1LP"
      },
      "outputs": [],
      "source": []
    }
  ],
  "metadata": {
    "colab": {
      "provenance": []
    },
    "front_matter": {
      "description": "Explore a group chat example using agents such as a coder and visualization agent.",
      "tags": [
        "group chat"
      ]
    },
    "kernelspec": {
      "display_name": "flaml",
      "language": "python",
      "name": "python3"
    },
    "language_info": {
      "codemirror_mode": {
        "name": "ipython",
        "version": 3
      },
      "file_extension": ".py",
      "mimetype": "text/x-python",
      "name": "python",
      "nbconvert_exporter": "python",
      "pygments_lexer": "ipython3",
      "version": "3.11.4"
    },
    "orig_nbformat": 4
  },
  "nbformat": 4,
  "nbformat_minor": 0
}
